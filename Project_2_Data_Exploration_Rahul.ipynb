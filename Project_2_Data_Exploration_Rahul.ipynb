{
 "cells": [
  {
   "cell_type": "code",
   "execution_count": 14,
   "metadata": {
    "collapsed": false
   },
   "outputs": [
    {
     "name": "stdout",
     "output_type": "stream",
     "text": [
      "2.7.10 |Anaconda 2.3.0 (64-bit)| (default, May 28 2015, 16:44:52) [MSC v.1500 64 bit (AMD64)]\n",
      "Pandas:  0.16.2\n"
     ]
    }
   ],
   "source": [
    "import os\n",
    "import sys\n",
    "import json\n",
    "import pprint #pretty print\n",
    "import glob\n",
    "import numpy as np\n",
    "import pandas as pd\n",
    "%matplotlib inline\n",
    "import matplotlib.pyplot as plt\n",
    "import seaborn as sns\n",
    "print sys.version\n",
    "print \"Pandas: \",pd.version.version\n",
    "from __future__ import division\n",
    "from sklearn.cross_validation import cross_val_score\n",
    "from sklearn.linear_model import LogisticRegression\n",
    "import sklearn.metrics as metrics\n",
    "\n",
    "np.random.seed(125)"
   ]
  },
  {
   "cell_type": "code",
   "execution_count": 3,
   "metadata": {
    "collapsed": true
   },
   "outputs": [],
   "source": [
    "bank_telemarket_df=pd.read_csv(\"C:/Users/xtl476/BigDataAcadBootCamp/Metis/Metis_Project_2/data/bank/bank.csv\",sep=';')"
   ]
  },
  {
   "cell_type": "code",
   "execution_count": 4,
   "metadata": {
    "collapsed": false
   },
   "outputs": [
    {
     "name": "stdout",
     "output_type": "stream",
     "text": [
      "Index([u'age', u'job', u'marital', u'education', u'default', u'balance',\n",
      "       u'housing', u'loan', u'contact', u'day', u'month', u'duration',\n",
      "       u'campaign', u'pdays', u'previous', u'poutcome', u'y'],\n",
      "      dtype='object')\n"
     ]
    },
    {
     "data": {
      "text/html": [
       "<div>\n",
       "<table border=\"1\" class=\"dataframe\">\n",
       "  <thead>\n",
       "    <tr style=\"text-align: right;\">\n",
       "      <th></th>\n",
       "      <th>age</th>\n",
       "      <th>job</th>\n",
       "      <th>marital</th>\n",
       "      <th>education</th>\n",
       "      <th>default</th>\n",
       "      <th>balance</th>\n",
       "      <th>housing</th>\n",
       "      <th>loan</th>\n",
       "      <th>contact</th>\n",
       "      <th>day</th>\n",
       "      <th>month</th>\n",
       "      <th>duration</th>\n",
       "      <th>campaign</th>\n",
       "      <th>pdays</th>\n",
       "      <th>previous</th>\n",
       "      <th>poutcome</th>\n",
       "      <th>y</th>\n",
       "    </tr>\n",
       "  </thead>\n",
       "  <tbody>\n",
       "    <tr>\n",
       "      <th>0</th>\n",
       "      <td>58</td>\n",
       "      <td>management</td>\n",
       "      <td>married</td>\n",
       "      <td>tertiary</td>\n",
       "      <td>no</td>\n",
       "      <td>2143</td>\n",
       "      <td>yes</td>\n",
       "      <td>no</td>\n",
       "      <td>unknown</td>\n",
       "      <td>5</td>\n",
       "      <td>may</td>\n",
       "      <td>261</td>\n",
       "      <td>1</td>\n",
       "      <td>-1</td>\n",
       "      <td>0</td>\n",
       "      <td>unknown</td>\n",
       "      <td>no</td>\n",
       "    </tr>\n",
       "    <tr>\n",
       "      <th>1</th>\n",
       "      <td>44</td>\n",
       "      <td>technician</td>\n",
       "      <td>single</td>\n",
       "      <td>secondary</td>\n",
       "      <td>no</td>\n",
       "      <td>29</td>\n",
       "      <td>yes</td>\n",
       "      <td>no</td>\n",
       "      <td>unknown</td>\n",
       "      <td>5</td>\n",
       "      <td>may</td>\n",
       "      <td>151</td>\n",
       "      <td>1</td>\n",
       "      <td>-1</td>\n",
       "      <td>0</td>\n",
       "      <td>unknown</td>\n",
       "      <td>no</td>\n",
       "    </tr>\n",
       "    <tr>\n",
       "      <th>2</th>\n",
       "      <td>33</td>\n",
       "      <td>entrepreneur</td>\n",
       "      <td>married</td>\n",
       "      <td>secondary</td>\n",
       "      <td>no</td>\n",
       "      <td>2</td>\n",
       "      <td>yes</td>\n",
       "      <td>yes</td>\n",
       "      <td>unknown</td>\n",
       "      <td>5</td>\n",
       "      <td>may</td>\n",
       "      <td>76</td>\n",
       "      <td>1</td>\n",
       "      <td>-1</td>\n",
       "      <td>0</td>\n",
       "      <td>unknown</td>\n",
       "      <td>no</td>\n",
       "    </tr>\n",
       "    <tr>\n",
       "      <th>3</th>\n",
       "      <td>47</td>\n",
       "      <td>blue-collar</td>\n",
       "      <td>married</td>\n",
       "      <td>unknown</td>\n",
       "      <td>no</td>\n",
       "      <td>1506</td>\n",
       "      <td>yes</td>\n",
       "      <td>no</td>\n",
       "      <td>unknown</td>\n",
       "      <td>5</td>\n",
       "      <td>may</td>\n",
       "      <td>92</td>\n",
       "      <td>1</td>\n",
       "      <td>-1</td>\n",
       "      <td>0</td>\n",
       "      <td>unknown</td>\n",
       "      <td>no</td>\n",
       "    </tr>\n",
       "    <tr>\n",
       "      <th>4</th>\n",
       "      <td>33</td>\n",
       "      <td>unknown</td>\n",
       "      <td>single</td>\n",
       "      <td>unknown</td>\n",
       "      <td>no</td>\n",
       "      <td>1</td>\n",
       "      <td>no</td>\n",
       "      <td>no</td>\n",
       "      <td>unknown</td>\n",
       "      <td>5</td>\n",
       "      <td>may</td>\n",
       "      <td>198</td>\n",
       "      <td>1</td>\n",
       "      <td>-1</td>\n",
       "      <td>0</td>\n",
       "      <td>unknown</td>\n",
       "      <td>no</td>\n",
       "    </tr>\n",
       "  </tbody>\n",
       "</table>\n",
       "</div>"
      ],
      "text/plain": [
       "   age           job  marital  education default  balance housing loan  \\\n",
       "0   58    management  married   tertiary      no     2143     yes   no   \n",
       "1   44    technician   single  secondary      no       29     yes   no   \n",
       "2   33  entrepreneur  married  secondary      no        2     yes  yes   \n",
       "3   47   blue-collar  married    unknown      no     1506     yes   no   \n",
       "4   33       unknown   single    unknown      no        1      no   no   \n",
       "\n",
       "   contact  day month  duration  campaign  pdays  previous poutcome   y  \n",
       "0  unknown    5   may       261         1     -1         0  unknown  no  \n",
       "1  unknown    5   may       151         1     -1         0  unknown  no  \n",
       "2  unknown    5   may        76         1     -1         0  unknown  no  \n",
       "3  unknown    5   may        92         1     -1         0  unknown  no  \n",
       "4  unknown    5   may       198         1     -1         0  unknown  no  "
      ]
     },
     "execution_count": 4,
     "metadata": {},
     "output_type": "execute_result"
    }
   ],
   "source": [
    "print bank_telemarket_df.columns\n",
    "bank_telemarket_df.head()"
   ]
  },
  {
   "cell_type": "code",
   "execution_count": 5,
   "metadata": {
    "collapsed": true
   },
   "outputs": [],
   "source": [
    "bank_telemarket_df=bank_telemarket_df.rename(columns = {'y':'Response'})"
   ]
  },
  {
   "cell_type": "code",
   "execution_count": 6,
   "metadata": {
    "collapsed": false
   },
   "outputs": [
    {
     "data": {
      "text/html": [
       "<div>\n",
       "<table border=\"1\" class=\"dataframe\">\n",
       "  <thead>\n",
       "    <tr style=\"text-align: right;\">\n",
       "      <th></th>\n",
       "      <th>age</th>\n",
       "      <th>balance</th>\n",
       "      <th>day</th>\n",
       "      <th>duration</th>\n",
       "      <th>campaign</th>\n",
       "      <th>pdays</th>\n",
       "      <th>previous</th>\n",
       "    </tr>\n",
       "  </thead>\n",
       "  <tbody>\n",
       "    <tr>\n",
       "      <th>count</th>\n",
       "      <td>45211.000000</td>\n",
       "      <td>45211.000000</td>\n",
       "      <td>45211.000000</td>\n",
       "      <td>45211.000000</td>\n",
       "      <td>45211.000000</td>\n",
       "      <td>45211.000000</td>\n",
       "      <td>45211.000000</td>\n",
       "    </tr>\n",
       "    <tr>\n",
       "      <th>mean</th>\n",
       "      <td>40.936210</td>\n",
       "      <td>1362.272058</td>\n",
       "      <td>15.806419</td>\n",
       "      <td>258.163080</td>\n",
       "      <td>2.763841</td>\n",
       "      <td>40.197828</td>\n",
       "      <td>0.580323</td>\n",
       "    </tr>\n",
       "    <tr>\n",
       "      <th>std</th>\n",
       "      <td>10.618762</td>\n",
       "      <td>3044.765829</td>\n",
       "      <td>8.322476</td>\n",
       "      <td>257.527812</td>\n",
       "      <td>3.098021</td>\n",
       "      <td>100.128746</td>\n",
       "      <td>2.303441</td>\n",
       "    </tr>\n",
       "    <tr>\n",
       "      <th>min</th>\n",
       "      <td>18.000000</td>\n",
       "      <td>-8019.000000</td>\n",
       "      <td>1.000000</td>\n",
       "      <td>0.000000</td>\n",
       "      <td>1.000000</td>\n",
       "      <td>-1.000000</td>\n",
       "      <td>0.000000</td>\n",
       "    </tr>\n",
       "    <tr>\n",
       "      <th>25%</th>\n",
       "      <td>33.000000</td>\n",
       "      <td>72.000000</td>\n",
       "      <td>8.000000</td>\n",
       "      <td>103.000000</td>\n",
       "      <td>1.000000</td>\n",
       "      <td>-1.000000</td>\n",
       "      <td>0.000000</td>\n",
       "    </tr>\n",
       "    <tr>\n",
       "      <th>50%</th>\n",
       "      <td>39.000000</td>\n",
       "      <td>448.000000</td>\n",
       "      <td>16.000000</td>\n",
       "      <td>180.000000</td>\n",
       "      <td>2.000000</td>\n",
       "      <td>-1.000000</td>\n",
       "      <td>0.000000</td>\n",
       "    </tr>\n",
       "    <tr>\n",
       "      <th>75%</th>\n",
       "      <td>48.000000</td>\n",
       "      <td>1428.000000</td>\n",
       "      <td>21.000000</td>\n",
       "      <td>319.000000</td>\n",
       "      <td>3.000000</td>\n",
       "      <td>-1.000000</td>\n",
       "      <td>0.000000</td>\n",
       "    </tr>\n",
       "    <tr>\n",
       "      <th>max</th>\n",
       "      <td>95.000000</td>\n",
       "      <td>102127.000000</td>\n",
       "      <td>31.000000</td>\n",
       "      <td>4918.000000</td>\n",
       "      <td>63.000000</td>\n",
       "      <td>871.000000</td>\n",
       "      <td>275.000000</td>\n",
       "    </tr>\n",
       "  </tbody>\n",
       "</table>\n",
       "</div>"
      ],
      "text/plain": [
       "                age        balance           day      duration      campaign  \\\n",
       "count  45211.000000   45211.000000  45211.000000  45211.000000  45211.000000   \n",
       "mean      40.936210    1362.272058     15.806419    258.163080      2.763841   \n",
       "std       10.618762    3044.765829      8.322476    257.527812      3.098021   \n",
       "min       18.000000   -8019.000000      1.000000      0.000000      1.000000   \n",
       "25%       33.000000      72.000000      8.000000    103.000000      1.000000   \n",
       "50%       39.000000     448.000000     16.000000    180.000000      2.000000   \n",
       "75%       48.000000    1428.000000     21.000000    319.000000      3.000000   \n",
       "max       95.000000  102127.000000     31.000000   4918.000000     63.000000   \n",
       "\n",
       "              pdays      previous  \n",
       "count  45211.000000  45211.000000  \n",
       "mean      40.197828      0.580323  \n",
       "std      100.128746      2.303441  \n",
       "min       -1.000000      0.000000  \n",
       "25%       -1.000000      0.000000  \n",
       "50%       -1.000000      0.000000  \n",
       "75%       -1.000000      0.000000  \n",
       "max      871.000000    275.000000  "
      ]
     },
     "execution_count": 6,
     "metadata": {},
     "output_type": "execute_result"
    }
   ],
   "source": [
    "bank_telemarket_df.describe()"
   ]
  },
  {
   "cell_type": "code",
   "execution_count": 7,
   "metadata": {
    "collapsed": false
   },
   "outputs": [
    {
     "name": "stdout",
     "output_type": "stream",
     "text": [
      "Number of rows which are Null by Column Names:\n",
      "\n",
      "\n",
      "age          0\n",
      "job          0\n",
      "marital      0\n",
      "education    0\n",
      "default      0\n",
      "balance      0\n",
      "housing      0\n",
      "loan         0\n",
      "contact      0\n",
      "day          0\n",
      "month        0\n",
      "duration     0\n",
      "campaign     0\n",
      "pdays        0\n",
      "previous     0\n",
      "poutcome     0\n",
      "Response     0\n",
      "dtype: int64 \n",
      "\n"
     ]
    }
   ],
   "source": [
    "####################################################################################\n",
    "#Data Type and Sanity Checks\n",
    "####################################################################################\n",
    "#Check for null values in movies dataframe\n",
    "print \"Number of rows which are Null by Column Names:\\n\"\n",
    "print \"\\n\",len(bank_telemarket_df.index)-bank_telemarket_df.count(),\"\\n\""
   ]
  },
  {
   "cell_type": "code",
   "execution_count": 8,
   "metadata": {
    "collapsed": false
   },
   "outputs": [
    {
     "name": "stdout",
     "output_type": "stream",
     "text": [
      "job \n",
      "\n",
      "blue-collar      9732\n",
      "management       9458\n",
      "technician       7597\n",
      "admin.           5171\n",
      "services         4154\n",
      "retired          2264\n",
      "self-employed    1579\n",
      "entrepreneur     1487\n",
      "unemployed       1303\n",
      "housemaid        1240\n",
      "student           938\n",
      "unknown           288\n",
      "dtype: int64 \n",
      "\n",
      "marital \n",
      "\n",
      "married     27214\n",
      "single      12790\n",
      "divorced     5207\n",
      "dtype: int64 \n",
      "\n",
      "education \n",
      "\n",
      "secondary    23202\n",
      "tertiary     13301\n",
      "primary       6851\n",
      "unknown       1857\n",
      "dtype: int64 \n",
      "\n",
      "default \n",
      "\n",
      "no     44396\n",
      "yes      815\n",
      "dtype: int64 \n",
      "\n",
      "housing \n",
      "\n",
      "yes    25130\n",
      "no     20081\n",
      "dtype: int64 \n",
      "\n",
      "loan \n",
      "\n",
      "no     37967\n",
      "yes     7244\n",
      "dtype: int64 \n",
      "\n",
      "contact \n",
      "\n",
      "cellular     29285\n",
      "unknown      13020\n",
      "telephone     2906\n",
      "dtype: int64 \n",
      "\n",
      "month \n",
      "\n",
      "may    13766\n",
      "jul     6895\n",
      "aug     6247\n",
      "jun     5341\n",
      "nov     3970\n",
      "apr     2932\n",
      "feb     2649\n",
      "jan     1403\n",
      "oct      738\n",
      "sep      579\n",
      "mar      477\n",
      "dec      214\n",
      "dtype: int64 \n",
      "\n",
      "poutcome \n",
      "\n",
      "unknown    36959\n",
      "failure     4901\n",
      "other       1840\n",
      "success     1511\n",
      "dtype: int64 \n",
      "\n",
      "Response \n",
      "\n",
      "no     39922\n",
      "yes     5289\n",
      "dtype: int64 \n",
      "\n"
     ]
    }
   ],
   "source": [
    "for column, column_type in bank_telemarket_df.dtypes.iteritems():\n",
    "    #print column, str(column_type)\n",
    "    if str(column_type)!= 'int64':\n",
    "        if column<>'age':\n",
    "            print column,\"\\n\\n\",bank_telemarket_df[column].value_counts(),\"\\n\"\n",
    "        else:\n",
    "            print column,\"\\n\",\"Min: \",min(map(int,bank_telemarket_df[column])), \"Max: \",max(map(int,bank_telemarket_df[column]))"
   ]
  },
  {
   "cell_type": "code",
   "execution_count": 69,
   "metadata": {
    "collapsed": true
   },
   "outputs": [],
   "source": [
    "#bank_telemarket_df['Response'].replace(['yes','no'], [1,0], inplace=True)\n",
    "\n",
    "bank_telemarket_df['Count'] =1"
   ]
  },
  {
   "cell_type": "code",
   "execution_count": 70,
   "metadata": {
    "collapsed": false
   },
   "outputs": [
    {
     "data": {
      "image/png": "[encoded data removed]",
      "text/plain": [
       "<matplotlib.figure.Figure at 0x25175dd8>"
      ]
     },
     "metadata": {},
     "output_type": "display_data"
    },
    {
     "data": {
      "image/png": "[encoded data removed]",
      "text/plain": [
       "<matplotlib.figure.Figure at 0x25a10160>"
      ]
     },
     "metadata": {},
     "output_type": "display_data"
    },
    {
     "data": {
      "image/png": "[encoded data removed]",
      "text/plain": [
       "<matplotlib.figure.Figure at 0x2843ab70>"
      ]
     },
     "metadata": {},
     "output_type": "display_data"
    },
    {
     "data": {
      "image/png": "[encoded data removed]",
      "text/plain": [
       "<matplotlib.figure.Figure at 0x21097f28>"
      ]
     },
     "metadata": {},
     "output_type": "display_data"
    },
    {
     "data": {
      "image/png": "[encoded data removed]",
      "text/plain": [
       "<matplotlib.figure.Figure at 0x29bdb358>"
      ]
     },
     "metadata": {},
     "output_type": "display_data"
    },
    {
     "data": {
      "image/png": "[encoded data removed]",
      "text/plain": [
       "<matplotlib.figure.Figure at 0x27ce0f98>"
      ]
     },
     "metadata": {},
     "output_type": "display_data"
    },
    {
     "data": {
      "image/png": "[encoded data removed]",
      "text/plain": [
       "<matplotlib.figure.Figure at 0x29a362b0>"
      ]
     },
     "metadata": {},
     "output_type": "display_data"
    },
    {
     "data": {
      "image/png": "[encoded data removed]",
      "text/plain": [
       "<matplotlib.figure.Figure at 0x28f99a90>"
      ]
     },
     "metadata": {},
     "output_type": "display_data"
    },
    {
     "data": {
      "image/png": "[encoded data removed]",
      "text/plain": [
       "<matplotlib.figure.Figure at 0x28fcfac8>"
      ]
     },
     "metadata": {},
     "output_type": "display_data"
    },
    {
     "data": {
      "image/png": "[encoded data removed]",
      "text/plain": [
       "<matplotlib.figure.Figure at 0x24bfd780>"
      ]
     },
     "metadata": {},
     "output_type": "display_data"
    },
    {
     "data": {
      "image/png": "[encoded data removed]",
      "text/plain": [
       "<matplotlib.figure.Figure at 0x29492358>"
      ]
     },
     "metadata": {},
     "output_type": "display_data"
    }
   ],
   "source": [
    "list_of_features = ['job','marital','education','default','housing','loan','contact','month','campaign','previous','poutcome']\n",
    "for i in list_of_features:\n",
    "    xlabels=bank_telemarket_df[i].unique()\n",
    "    ax = sns.factorplot(x=i,y='Count',hue=\"Response\",data=bank_telemarket_df,estimator=np.sum,kind='bar',size=6,aspect=2)\n",
    "    ax.set_xticklabels(xlabels,rotation=90)"
   ]
  },
  {
   "cell_type": "code",
   "execution_count": 82,
   "metadata": {
    "collapsed": false
   },
   "outputs": [
    {
     "name": "stdout",
     "output_type": "stream",
     "text": [
      "\n",
      "Original Unqiue values of education\n",
      "\n",
      "secondary    23202\n",
      "tertiary     13301\n",
      "primary       6851\n",
      "unknown       1857\n",
      "dtype: int64\n",
      "\n",
      "Original Unqiue values of  job \n",
      "\n",
      "job       admin.  blue-collar  entrepreneur  housemaid  management  retired  \\\n",
      "Response                                                                      \n",
      "no          4540         9024          1364       1131        8157     1748   \n",
      "yes          631          708           123        109        1301      516   \n",
      "\n",
      "job       self-employed  services  student  technician  unemployed  unknown  \n",
      "Response                                                                     \n",
      "no                 1392      3785      669        6757        1101      254  \n",
      "yes                 187       369      269         840         202       34  \n",
      "\n",
      "Original Unqiue values of  marital \n",
      "\n",
      "marital   divorced  married  single\n",
      "Response                           \n",
      "no            4585    24459   10878\n",
      "yes            622     2755    1912\n",
      "\n",
      "Original Unqiue values of  education \n",
      "\n",
      "education  primary  secondary  tertiary  unknown\n",
      "Response                                        \n",
      "no            6260      20752     11305     1605\n",
      "yes            591       2450      1996      252\n",
      "\n",
      "Original Unqiue values of  default \n",
      "\n",
      "default      no  yes\n",
      "Response            \n",
      "no        39159  763\n",
      "yes        5237   52\n",
      "\n",
      "Original Unqiue values of  housing \n",
      "\n",
      "housing      no    yes\n",
      "Response              \n",
      "no        16727  23195\n",
      "yes        3354   1935\n",
      "\n",
      "Original Unqiue values of  loan \n",
      "\n",
      "loan         no   yes\n",
      "Response             \n",
      "no        33162  6760\n",
      "yes        4805   484\n",
      "\n",
      "Original Unqiue values of  contact \n",
      "\n",
      "contact   cellular  telephone  unknown\n",
      "Response                              \n",
      "no           24916       2516    12490\n",
      "yes           4369        390      530\n",
      "\n",
      "Original Unqiue values of  month \n",
      "\n",
      "month      apr   aug  dec   feb   jan   jul   jun  mar    may   nov  oct  sep\n",
      "Response                                                                     \n",
      "no        2355  5559  114  2208  1261  6268  4795  229  12841  3567  415  310\n",
      "yes        577   688  100   441   142   627   546  248    925   403  323  269\n",
      "\n",
      "Original Unqiue values of  campaign \n",
      "\n",
      "campaign     1      2     3     4     5     6    7    8    9    10 ...  39  \\\n",
      "Response                                                           ...       \n",
      "no        14983  11104  4903  3205  1625  1199  688  508  306  252 ...   1   \n",
      "yes        2561   1401   618   317   139    92   47   32   21   14 ...   0   \n",
      "\n",
      "campaign  41  43  44  46  50  51  55  58  63  \n",
      "Response                                      \n",
      "no         2   3   1   1   2   1   1   1   1  \n",
      "yes        0   0   0   0   0   0   0   0   0  \n",
      "\n",
      "[2 rows x 48 columns]\n",
      "\n",
      "Original Unqiue values of  previous \n",
      "\n",
      "previous    0     1     2    3    4    5    6    7    8    9   ...   32   35   \\\n",
      "Response                                                       ...              \n",
      "no        33570  2189  1650  848  543  338  194  151   90   68 ...     1    1   \n",
      "yes        3384   583   456  294  171  121   83   54   39   24 ...     0    0   \n",
      "\n",
      "previous  37   38   40   41   51   55   58   275  \n",
      "Response                                          \n",
      "no          2    2    1    1    1    0    0    1  \n",
      "yes         0    0    0    0    0    1    1    0  \n",
      "\n",
      "[2 rows x 41 columns]\n",
      "\n",
      "Original Unqiue values of  poutcome \n",
      "\n",
      "poutcome  failure  other  success  unknown\n",
      "Response                                  \n",
      "no           4283   1533      533    33573\n",
      "yes           618    307      978     3386\n"
     ]
    }
   ],
   "source": [
    "#Check Unique Values of education\n",
    "print \"\\nOriginal Unqiue values of education\\n\"\n",
    "#print pd.unique(bank_telemarket_df.education.ravel())\n",
    "print bank_telemarket_df.education.value_counts()\n",
    "list_of_features = ['job','marital','education','default','housing','loan','contact','month','campaign','previous','poutcome']\n",
    "for i in list_of_features:\n",
    "    print \"\\nOriginal Unqiue values of \",i,\"\\n\"\n",
    "    print pd.crosstab(bank_telemarket_df.Response, [bank_telemarket_df[i]] ,\n",
    "                                         rownames=['Response'], colnames=[i])"
   ]
  },
  {
   "cell_type": "code",
   "execution_count": null,
   "metadata": {
    "collapsed": true
   },
   "outputs": [],
   "source": [
    "poutcome\n",
    "previous top 9\n",
    "months - oct, sep, mar , dec,nov\n",
    "contact - telephone\n",
    "default-\n",
    "management\n",
    "retured\n",
    "student\n",
    "services"
   ]
  },
  {
   "cell_type": "code",
   "execution_count": 10,
   "metadata": {
    "collapsed": false
   },
   "outputs": [
    {
     "name": "stdout",
     "output_type": "stream",
     "text": [
      "['age', 'balance', 'day', 'duration', 'campaign', 'pdays', 'previous']\n",
      "30291 14920\n"
     ]
    }
   ],
   "source": [
    "from sklearn.cross_validation import train_test_split\n",
    "#df.drop(df.columns[len(df.columns)-1], axis=1, inplace=True)\n",
    "\n",
    "cols=[]\n",
    "for column, column_type in bank_telemarket_df.dtypes.iteritems():\n",
    "    #print column, str(column_type)\n",
    "    if str(column_type)== 'int64':\n",
    "        cols.append(column)    \n",
    "print cols\n",
    "Y=bank_telemarket_df['Response']\n",
    "#X=bank_telemarket_df.ix[:,:-1]\n",
    "X=bank_telemarket_df[cols]\n",
    "\n",
    "X_train,X_test,Y_train,Y_test=train_test_split(X,Y,test_size=0.33)\n",
    "\n",
    "print len(X_train),len(X_test)"
   ]
  },
  {
   "cell_type": "code",
   "execution_count": 15,
   "metadata": {
    "collapsed": false
   },
   "outputs": [
    {
     "name": "stdout",
     "output_type": "stream",
     "text": [
      "Logistic Regression Model Score:  0.890198408768\n",
      "\n",
      " Accuracy Score:\n",
      "0.885991957105\n",
      "\n",
      " Confusion Matrix:\n",
      "[[12934   201]\n",
      " [ 1500   285]]\n",
      "\n",
      " Classification Report:\n",
      "             precision    recall  f1-score   support\n",
      "\n",
      "         no       0.90      0.98      0.94     13135\n",
      "        yes       0.59      0.16      0.25      1785\n",
      "\n",
      "avg / total       0.86      0.89      0.86     14920\n",
      "\n"
     ]
    }
   ],
   "source": [
    "log_model=LogisticRegression()\n",
    "log_model.fit(X_train,Y_train)\n",
    "pd.DataFrame(log_model.predict(X_test),Y_test)\n",
    "# check the accuracy on the training set\n",
    "print \"Logistic Regression Model Score: \",log_model.score(X_train, Y_train)\n",
    "print \"\\n Accuracy Score:\\n\", metrics.accuracy_score(Y_test, log_model.predict(X_test))\n",
    "print \"\\n Confusion Matrix:\\n\",metrics.confusion_matrix(Y_test, log_model.predict(X_test))\n",
    "print \"\\n Classification Report:\\n\",metrics.classification_report(Y_test, log_model.predict(X_test))\n"
   ]
  },
  {
   "cell_type": "code",
   "execution_count": 65,
   "metadata": {
    "collapsed": false
   },
   "outputs": [
    {
     "data": {
      "text/plain": [
       "no     10000\n",
       "yes     5289\n",
       "dtype: int64"
      ]
     },
     "execution_count": 65,
     "metadata": {},
     "output_type": "execute_result"
    }
   ],
   "source": [
    "####################################################################################\n",
    "#Create a resampled dataframe which contains balanced target\n",
    "####################################################################################\n",
    "bank_subset_no_only=bank_telemarket_df[bank_telemarket_df.Response=='no']\n",
    "#print bank_subset_no_only.Response.value_counts()\n",
    "#bank_subset_no_only.ix[np.random.choice(bank_subset_no_only.index, 10)].count()\n",
    "bank_subset_no_only_sample=bank_subset_no_only.ix[np.random.choice(bank_subset_no_only.index,10000)]\n",
    "bank_subset_no_only_sample.describe()\n",
    "\n",
    "bank_subset_resample_df=bank_subset_no_only_sample.append(bank_telemarket_df[bank_telemarket_df.Response=='yes'])\n",
    "\n",
    "bank_subset_resample_df['Response'].value_counts()\n",
    "\n",
    "####################################################################################\n",
    "#  TO BE USED TO TRAIN THE MODEL - bank_subset_resample_df\n",
    "####################################################################################\n"
   ]
  },
  {
   "cell_type": "code",
   "execution_count": 66,
   "metadata": {
    "collapsed": false
   },
   "outputs": [
    {
     "name": "stdout",
     "output_type": "stream",
     "text": [
      "['age', 'balance', 'day', 'duration', 'campaign', 'pdays', 'previous']\n",
      "10243 5046\n"
     ]
    }
   ],
   "source": [
    "from sklearn.cross_validation import train_test_split\n",
    "#df.drop(df.columns[len(df.columns)-1], axis=1, inplace=True)\n",
    "\n",
    "cols=[]\n",
    "for column, column_type in bank_subset_resample_df.dtypes.iteritems():\n",
    "    #print column, str(column_type)\n",
    "    if str(column_type)== 'int64':\n",
    "        cols.append(column)    \n",
    "print cols\n",
    "Y=bank_subset_resample_df['Response']\n",
    "#X=bank_telemarket_df.ix[:,:-1]\n",
    "X=bank_subset_resample_df[cols]\n",
    "\n",
    "X_train,X_test,Y_train,Y_test=train_test_split(X,Y,test_size=0.33)\n",
    "\n",
    "print len(X_train),len(X_test)"
   ]
  },
  {
   "cell_type": "code",
   "execution_count": 67,
   "metadata": {
    "collapsed": false
   },
   "outputs": [
    {
     "name": "stdout",
     "output_type": "stream",
     "text": [
      "Logistic Regression Model Score:  0.77203944157\n",
      "\n",
      " Accuracy Score:\n",
      "0.76317875545\n",
      "\n",
      " Confusion Matrix:\n",
      "[[2943  311]\n",
      " [ 884  908]]\n",
      "\n",
      " Classification Report:\n",
      "             precision    recall  f1-score   support\n",
      "\n",
      "         no       0.77      0.90      0.83      3254\n",
      "        yes       0.74      0.51      0.60      1792\n",
      "\n",
      "avg / total       0.76      0.76      0.75      5046\n",
      "\n"
     ]
    }
   ],
   "source": [
    "log_model=LogisticRegression()\n",
    "log_model.fit(X_train,Y_train)\n",
    "pd.DataFrame(log_model.predict(X_test),Y_test)\n",
    "# check the accuracy on the training set\n",
    "print \"Logistic Regression Model Score: \",log_model.score(X_train, Y_train)\n",
    "print \"\\n Accuracy Score:\\n\", metrics.accuracy_score(Y_test, log_model.predict(X_test))\n",
    "print \"\\n Confusion Matrix:\\n\",metrics.confusion_matrix(Y_test, log_model.predict(X_test))\n",
    "print \"\\n Classification Report:\\n\",metrics.classification_report(Y_test, log_model.predict(X_test))"
   ]
  },
  {
   "cell_type": "code",
   "execution_count": null,
   "metadata": {
    "collapsed": true
   },
   "outputs": [],
   "source": []
  },
  {
   "cell_type": "code",
   "execution_count": null,
   "metadata": {
    "collapsed": true
   },
   "outputs": [],
   "source": []
  },
  {
   "cell_type": "code",
   "execution_count": null,
   "metadata": {
    "collapsed": true
   },
   "outputs": [],
   "source": []
  },
  {
   "cell_type": "code",
   "execution_count": 35,
   "metadata": {
    "collapsed": false
   },
   "outputs": [
    {
     "name": "stdout",
     "output_type": "stream",
     "text": [
      "2\n",
      "sklearn.cross_validation.StratifiedKFold(labels=['no' 'no' 'no' ..., 'yes' 'no' 'no'], n_folds=2, shuffle=False, random_state=None)\n",
      "[20971     no\n",
      "20972     no\n",
      "20973     no\n",
      "20974     no\n",
      "20975     no\n",
      "20976     no\n",
      "20977     no\n",
      "20978     no\n",
      "20979     no\n",
      "20980     no\n",
      "20981     no\n",
      "20982     no\n",
      "20983     no\n",
      "20984     no\n",
      "20985     no\n",
      "20986     no\n",
      "20987     no\n",
      "20988     no\n",
      "20989     no\n",
      "20990     no\n",
      "20991     no\n",
      "20992     no\n",
      "20993     no\n",
      "20994     no\n",
      "20995     no\n",
      "20996     no\n",
      "20997     no\n",
      "20998     no\n",
      "20999     no\n",
      "21000     no\n",
      "        ... \n",
      "45181     no\n",
      "45182    yes\n",
      "45183     no\n",
      "45184     no\n",
      "45185    yes\n",
      "45186     no\n",
      "45187    yes\n",
      "45188    yes\n",
      "45189     no\n",
      "45190    yes\n",
      "45191    yes\n",
      "45192    yes\n",
      "45193    yes\n",
      "45194     no\n",
      "45195    yes\n",
      "45196    yes\n",
      "45197    yes\n",
      "45198     no\n",
      "45199     no\n",
      "45200    yes\n",
      "45201    yes\n",
      "45202    yes\n",
      "45203    yes\n",
      "45204    yes\n",
      "45205    yes\n",
      "45206    yes\n",
      "45207    yes\n",
      "45208    yes\n",
      "45209     no\n",
      "45210     no\n",
      "Name: Response, dtype: object, 0         no\n",
      "1         no\n",
      "2         no\n",
      "3         no\n",
      "4         no\n",
      "5         no\n",
      "6         no\n",
      "7         no\n",
      "8         no\n",
      "9         no\n",
      "10        no\n",
      "11        no\n",
      "12        no\n",
      "13        no\n",
      "14        no\n",
      "15        no\n",
      "16        no\n",
      "17        no\n",
      "18        no\n",
      "19        no\n",
      "20        no\n",
      "21        no\n",
      "22        no\n",
      "23        no\n",
      "24        no\n",
      "25        no\n",
      "26        no\n",
      "27        no\n",
      "28        no\n",
      "29        no\n",
      "        ... \n",
      "38392    yes\n",
      "38394    yes\n",
      "38409    yes\n",
      "38417    yes\n",
      "38418    yes\n",
      "38428    yes\n",
      "38434    yes\n",
      "38449    yes\n",
      "38463    yes\n",
      "38464    yes\n",
      "38468    yes\n",
      "38477    yes\n",
      "38483    yes\n",
      "38491    yes\n",
      "38492    yes\n",
      "38494    yes\n",
      "38497    yes\n",
      "38501    yes\n",
      "38522    yes\n",
      "38527    yes\n",
      "38534    yes\n",
      "38544    yes\n",
      "38545    yes\n",
      "38556    yes\n",
      "38561    yes\n",
      "38569    yes\n",
      "38628    yes\n",
      "38637    yes\n",
      "38653    yes\n",
      "38668    yes\n",
      "Name: Response, dtype: object]\n"
     ]
    }
   ],
   "source": [
    "#skf = cross_validation.StratifiedKFold(X[:,i])\n",
    "Y_train_new=[]\n",
    "Y_test_new=[]\n",
    "from sklearn import cross_validation\n",
    "\n",
    "skf = cross_validation.StratifiedKFold(Y, n_folds=2)\n",
    "print len(skf)\n",
    "print(skf)  \n",
    "#for train_index, test_index in skf:\n",
    "#    print(\"TRAIN:\", train_index, \"TEST:\", test_index)\n",
    "#    X_train, X_test = X[train_index], X[test_index]\n",
    "#    y_train, y_test = Y[train_index], Y[test_index]\n",
    "\n",
    "for train, test in skf:\n",
    "    Y_train_new.append(Y[train])\n",
    "    Y_test_new.append(Y[test])\n",
    "    \n",
    "print Y_train_new\n",
    "#.count('yes')\n",
    "#print Y_test_new.count('no')"
   ]
  },
  {
   "cell_type": "code",
   "execution_count": null,
   "metadata": {
    "collapsed": true
   },
   "outputs": [],
   "source": []
  }
 ],
 "metadata": {
  "kernelspec": {
   "display_name": "Python 2",
   "language": "python",
   "name": "python2"
  },
  "language_info": {
   "codemirror_mode": {
    "name": "ipython",
    "version": 2
   },
   "file_extension": ".py",
   "mimetype": "text/x-python",
   "name": "python",
   "nbconvert_exporter": "python",
   "pygments_lexer": "ipython2",
   "version": "2.7.10"
  }
 },
 "nbformat": 4,
 "nbformat_minor": 0
}
